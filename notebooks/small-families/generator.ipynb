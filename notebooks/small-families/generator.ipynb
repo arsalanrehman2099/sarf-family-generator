{
 "cells": [
  {
   "cell_type": "markdown",
   "id": "19acf456",
   "metadata": {},
   "source": [
    "# Sarf Generator - Small Families"
   ]
  },
  {
   "cell_type": "code",
   "execution_count": 1,
   "id": "f3d8f05e",
   "metadata": {},
   "outputs": [],
   "source": [
    "word_before_isms = 'فَهُوَ'\n",
    "word_for_commanding = 'الأَمْرُ مِنْهُ'\n",
    "word_for_forbidding = 'وَالنَّهْىُ عَنْهُ لَا'\n",
    "word_for_time_place = 'وَالظَّرْفُ مِنْهُ'"
   ]
  },
  {
   "cell_type": "markdown",
   "id": "b5aade27",
   "metadata": {},
   "source": [
    "#### 01: نصر family"
   ]
  },
  {
   "cell_type": "code",
   "execution_count": 28,
   "id": "80c6013a",
   "metadata": {},
   "outputs": [
    {
     "name": "stdout",
     "output_type": "stream",
     "text": [
      "\n",
      "نَصَرَ\tيَنْصُرُ\tنُصْرَةً\tفَهُوَ نَاصِرٌ\n",
      "\n",
      "نُصِرَ\tيُنْصَرُ\tنُصْرَةً\tفَهُوَ مَنْصُورٌ\n",
      "\n",
      "الأَمْرُ مِنْهُ اُنْصُرْ\tوَالنَّهْىُ عَنْهُ لَا تَنْصُرْ\n",
      "\n",
      "وَالظَّرْفُ مِنْهُ مُنْصَرٌ مُنْصِرٌ مُنْصَرَةٌ\n",
      "\n"
     ]
    }
   ],
   "source": [
    "f = 'ن'\n",
    "i = 'ص'\n",
    "l = 'ر'\n",
    "\n",
    "past = f\"{f}َ{i}َ{l}َ\"\n",
    "pres = f\"يَ{f}ْ{i}ُ{l}ُ\"\n",
    "masdar = f\"{f}ُ{i}ْ{l}َةً\"\n",
    "ism_fail = f\"{f}َا{i}ِ{l}ٌ\"\n",
    "\n",
    "past_passive = f\"{f}ُ{i}ِ{l}َ\"\n",
    "pres_passive = f\"يُ{f}ْ{i}َ{l}ُ\"\n",
    "ism_mafool = f\"مَ{f}ْ{i}ُو{l}ٌ\"\n",
    "\n",
    "commanding = f\"اُ{f}ْ{i}ُ{l}ْ\"\n",
    "forbidding = f\"تَ{f}ْ{i}ُ{l}ْ\"\n",
    "time_place = f\"مَ{f}ْ{i}َ{l}ٌ مَ{f}ْ{i}ِ{l}ٌ مَ{f}ْ{i}َ{l}َةٌ\"\n",
    "\n",
    "print('\\n' + past + '\\t' + pres + '\\t' + masdar + '\\t' + word_before_isms + ' ' + ism_fail)\n",
    "print('\\n' + past_passive + '\\t' + pres_passive + '\\t' + masdar + '\\t' + word_before_isms + ' ' + ism_mafool)\n",
    "print('\\n' + word_for_commanding + ' ' + commanding + '\\t' + word_for_forbidding + ' ' + forbidding)\n",
    "print('\\n' + word_for_time_place + ' ' + time_place + '\\n')"
   ]
  },
  {
   "cell_type": "markdown",
   "id": "26341957",
   "metadata": {},
   "source": [
    "#### 02: فتح family"
   ]
  },
  {
   "cell_type": "code",
   "execution_count": 41,
   "id": "8b902861",
   "metadata": {},
   "outputs": [
    {
     "name": "stdout",
     "output_type": "stream",
     "text": [
      "\n",
      "فَتَحَ\tيَفْتَحُ\tفَتْحًا\tفَهُوَ فَاتِحٌ\n",
      "\n",
      "فُتِحَ\tيُفْتَحُ\tفَتْحًا\tفَهُوَ مَفْتُوحٌ\n",
      "\n",
      "الأَمْرُ مِنْهُ اِفْتَحْ\tوَالنَّهْىُ عَنْهُ لَا تَفْتَحْ\n",
      "\n",
      "وَالظَّرْفُ مِنْهُ مَفْتَحٌ مَفْتِحٌ مَفْتَحَةٌ\n",
      "\n"
     ]
    }
   ],
   "source": [
    "f = 'ف'\n",
    "i = 'ت'\n",
    "l = 'ح'\n",
    "\n",
    "past = f\"{f}َ{i}َ{l}َ\"\n",
    "pres = f\"يَ{f}ْ{i}َ{l}ُ\"\n",
    "masdar = f\"{f}َ{i}ْ{l}ًا\"\n",
    "ism_fail = f\"{f}َا{i}ِ{l}ٌ\"\n",
    "\n",
    "past_passive = f\"{f}ُ{i}ِ{l}َ\"\n",
    "pres_passive = f\"يُ{f}ْ{i}َ{l}ُ\"\n",
    "ism_mafool = f\"مَ{f}ْ{i}ُو{l}ٌ\"\n",
    "\n",
    "commanding = f\"اِ{f}ْ{i}َ{l}ْ\"\n",
    "forbidding = f\"تَ{f}ْ{i}َ{l}ْ\"\n",
    "time_place = f\"مَ{f}ْ{i}َ{l}ٌ مَ{f}ْ{i}ِ{l}ٌ مَ{f}ْ{i}َ{l}َةٌ\"\n",
    "\n",
    "print('\\n' + past + '\\t' + pres + '\\t' + masdar + '\\t' + word_before_isms + ' ' + ism_fail)\n",
    "print('\\n' + past_passive + '\\t' + pres_passive + '\\t' + masdar + '\\t' + word_before_isms + ' ' + ism_mafool)\n",
    "print('\\n' + word_for_commanding + ' ' + commanding + '\\t' + word_for_forbidding + ' ' + forbidding)\n",
    "print('\\n' + word_for_time_place + ' ' + time_place + '\\n')"
   ]
  },
  {
   "cell_type": "markdown",
   "id": "537ff37f",
   "metadata": {},
   "source": [
    "#### 03: ضرب family"
   ]
  },
  {
   "cell_type": "code",
   "execution_count": 42,
   "id": "a144eabd",
   "metadata": {},
   "outputs": [
    {
     "name": "stdout",
     "output_type": "stream",
     "text": [
      "\n",
      "ضَرَبَ\tيَضْرِبُ\tضَرْبًا\tفَهُوَ ضَارِبٌ\n",
      "\n",
      "ضُرِبَ\tيُضْرَبُ\tضَرْبًا\tفَهُوَ مَضْرُوبٌ\n",
      "\n",
      "الأَمْرُ مِنْهُ اِضْرِبْ\tوَالنَّهْىُ عَنْهُ لَا تَضْرِبْ\n",
      "\n",
      "وَالظَّرْفُ مِنْهُ مَضْرَبٌ مَضْرِبٌ مَضْرَبَةٌ\n",
      "\n"
     ]
    }
   ],
   "source": [
    "f = 'ض'\n",
    "i = 'ر'\n",
    "l = 'ب'\n",
    "\n",
    "past = f\"{f}َ{i}َ{l}َ\"\n",
    "pres = f\"يَ{f}ْ{i}ِ{l}ُ\"\n",
    "masdar = f\"{f}َ{i}ْ{l}ًا\"\n",
    "ism_fail = f\"{f}َا{i}ِ{l}ٌ\"  \n",
    "\n",
    "past_passive = f\"{f}ُ{i}ِ{l}َ\" \n",
    "pres_passive = f\"يُ{f}ْ{i}َ{l}ُ\"  \n",
    "ism_mafool = f\"مَ{f}ْ{i}ُو{l}ٌ\" \n",
    "\n",
    "commanding = f\"اِ{f}ْ{i}ِ{l}ْ\"\n",
    "forbidding = f\"تَ{f}ْ{i}ِ{l}ْ\"\n",
    "time_place = f\"مَ{f}ْ{i}َ{l}ٌ مَ{f}ْ{i}ِ{l}ٌ مَ{f}ْ{i}َ{l}َةٌ\"\n",
    "\n",
    "print('\\n' + past + '\\t' + pres + '\\t' + masdar + '\\t' + word_before_isms + ' ' + ism_fail)\n",
    "print('\\n' + past_passive + '\\t' + pres_passive + '\\t' + masdar + '\\t' + word_before_isms + ' ' + ism_mafool)\n",
    "print('\\n' + word_for_commanding + ' ' + commanding + '\\t' + word_for_forbidding + ' ' + forbidding)\n",
    "print('\\n' + word_for_time_place + ' ' + time_place + '\\n')"
   ]
  },
  {
   "cell_type": "markdown",
   "id": "9b5097de",
   "metadata": {},
   "source": [
    "#### 04: سمع family"
   ]
  },
  {
   "cell_type": "code",
   "execution_count": 48,
   "id": "fb14c828",
   "metadata": {},
   "outputs": [
    {
     "name": "stdout",
     "output_type": "stream",
     "text": [
      "\n",
      "سَمِعَ\tيَسْمَعُ\tسَمْعًا\tفَهُوَ سَامِعٌ\n",
      "\n",
      "سُمِعَ\tيُسْمَعُ\tسَمْعًا\tفَهُوَ مَسْمُوعٌ\n",
      "\n",
      "الأَمْرُ مِنْهُ اِسْمَعْ\tوَالنَّهْىُ عَنْهُ لَا تَسْمَعْ\n",
      "\n",
      "وَالظَّرْفُ مِنْهُ مَسْمَعٌ مَسْمِعٌ مَسْمَعَةٌ\n",
      "\n"
     ]
    }
   ],
   "source": [
    "f = 'س'\n",
    "i = 'م'\n",
    "l = 'ع'\n",
    "\n",
    "past = f\"{f}َ{i}ِ{l}َ\"\n",
    "pres = f\"يَ{f}ْ{i}َ{l}ُ\"\n",
    "masdar = f\"{f}َ{i}ْ{l}ًا\"\n",
    "ism_fail = f\"{f}َا{i}ِ{l}ٌ\"  \n",
    "\n",
    "past_passive = f\"{f}ُ{i}ِ{l}َ\" \n",
    "pres_passive = f\"يُ{f}ْ{i}َ{l}ُ\"  \n",
    "ism_mafool = f\"مَ{f}ْ{i}ُو{l}ٌ\" \n",
    "\n",
    "commanding = f\"اِ{f}ْ{i}َ{l}ْ\"\n",
    "forbidding = f\"تَ{f}ْ{i}َ{l}ْ\"\n",
    "time_place = f\"مَ{f}ْ{i}َ{l}ٌ مَ{f}ْ{i}ِ{l}ٌ مَ{f}ْ{i}َ{l}َةٌ\"\n",
    "\n",
    "print('\\n' + past + '\\t' + pres + '\\t' + masdar + '\\t' + word_before_isms + ' ' + ism_fail)\n",
    "print('\\n' + past_passive + '\\t' + pres_passive + '\\t' + masdar + '\\t' + word_before_isms + ' ' + ism_mafool)\n",
    "print('\\n' + word_for_commanding + ' ' + commanding + '\\t' + word_for_forbidding + ' ' + forbidding)\n",
    "print('\\n' + word_for_time_place + ' ' + time_place + '\\n')"
   ]
  },
  {
   "cell_type": "markdown",
   "id": "c85d83f1",
   "metadata": {},
   "source": [
    "#### 05: حسب family"
   ]
  },
  {
   "cell_type": "code",
   "execution_count": 55,
   "id": "6ea4eb72",
   "metadata": {},
   "outputs": [
    {
     "name": "stdout",
     "output_type": "stream",
     "text": [
      "\n",
      "حَسِبَ\tيَحْسِبُ\tحِسَابًا\tفَهُوَ حَاسِبٌ\n",
      "\n",
      "حُسِبَ\tيُحْسَبُ\tحِسَابًا\tفَهُوَ مَحْسُوبٌ\n",
      "\n",
      "الأَمْرُ مِنْهُ اِحْسِبْ\tوَالنَّهْىُ عَنْهُ لَا تَحْسِبْ\n",
      "\n",
      "وَالظَّرْفُ مِنْهُ مَحْسَبٌ مَحْسِبٌ مَحْسَبَةٌ\n",
      "\n"
     ]
    }
   ],
   "source": [
    "f = 'ح'\n",
    "i = 'س'\n",
    "l = 'ب'\n",
    "\n",
    "past = f\"{f}َ{i}ِ{l}َ\"\n",
    "pres = f\"يَ{f}ْ{i}ِ{l}ُ\"\n",
    "masdar = f\"{f}ِ{i}َا{l}ًا\"\n",
    "ism_fail = f\"{f}َا{i}ِ{l}ٌ\"  \n",
    "\n",
    "past_passive = f\"{f}ُ{i}ِ{l}َ\" \n",
    "pres_passive = f\"يُ{f}ْ{i}َ{l}ُ\"  \n",
    "ism_mafool = f\"مَ{f}ْ{i}ُو{l}ٌ\" \n",
    "\n",
    "commanding = f\"اِ{f}ْ{i}ِ{l}ْ\"\n",
    "forbidding = f\"تَ{f}ْ{i}ِ{l}ْ\"\n",
    "time_place = f\"مَ{f}ْ{i}َ{l}ٌ مَ{f}ْ{i}ِ{l}ٌ مَ{f}ْ{i}َ{l}َةٌ\"\n",
    "\n",
    "print('\\n' + past + '\\t' + pres + '\\t' + masdar + '\\t' + word_before_isms + ' ' + ism_fail)\n",
    "print('\\n' + past_passive + '\\t' + pres_passive + '\\t' + masdar + '\\t' + word_before_isms + ' ' + ism_mafool)\n",
    "print('\\n' + word_for_commanding + ' ' + commanding + '\\t' + word_for_forbidding + ' ' + forbidding)\n",
    "print('\\n' + word_for_time_place + ' ' + time_place + '\\n')"
   ]
  },
  {
   "cell_type": "markdown",
   "id": "6777ad43",
   "metadata": {},
   "source": [
    "#### 06: كرم family"
   ]
  },
  {
   "cell_type": "code",
   "execution_count": 64,
   "id": "3e39017e",
   "metadata": {},
   "outputs": [
    {
     "name": "stdout",
     "output_type": "stream",
     "text": [
      "\n",
      "كَرُمَ\tيَكْرُمُ\tكَرَامَةً\tفَهُوَ كَرِيْمٌ\n",
      "\n",
      "الأَمْرُ مِنْهُ اُكْرُمْ\tوَالنَّهْىُ عَنْهُ لَا تَكْرُمْ\n",
      "\n",
      "وَالظَّرْفُ مِنْهُ مَكْرَمٌ مَكْرِمٌ مَكْرَمَةٌ\n",
      "\n"
     ]
    }
   ],
   "source": [
    "f = 'ك'\n",
    "i = 'ر'\n",
    "l = 'م'\n",
    "\n",
    "past = f\"{f}َ{i}ُ{l}َ\"\n",
    "pres = f\"يَ{f}ْ{i}ُ{l}ُ\"\n",
    "masdar = f\"{f}َ{i}َا{l}َةً\"\n",
    "ism_fail = f\"{f}َ{i}ِيْ{l}ٌ\"  \n",
    " \n",
    "commanding = f\"اُ{f}ْ{i}ُ{l}ْ\"\n",
    "forbidding = f\"تَ{f}ْ{i}ُ{l}ْ\"\n",
    "time_place = f\"مَ{f}ْ{i}َ{l}ٌ مَ{f}ْ{i}ِ{l}ٌ مَ{f}ْ{i}َ{l}َةٌ\"\n",
    "\n",
    "print('\\n' + past + '\\t' + pres + '\\t' + masdar + '\\t' + word_before_isms + ' ' + ism_fail)\n",
    "print('\\n' + word_for_commanding + ' ' + commanding + '\\t' + word_for_forbidding + ' ' + forbidding)\n",
    "print('\\n' + word_for_time_place + ' ' + time_place + '\\n')"
   ]
  },
  {
   "cell_type": "code",
   "execution_count": null,
   "id": "df12cdb3",
   "metadata": {},
   "outputs": [],
   "source": []
  },
  {
   "cell_type": "code",
   "execution_count": null,
   "id": "e34a237e",
   "metadata": {},
   "outputs": [],
   "source": []
  },
  {
   "cell_type": "code",
   "execution_count": null,
   "id": "f0d1d70c",
   "metadata": {},
   "outputs": [],
   "source": []
  },
  {
   "cell_type": "code",
   "execution_count": null,
   "id": "433ccfc2",
   "metadata": {},
   "outputs": [],
   "source": []
  },
  {
   "cell_type": "code",
   "execution_count": null,
   "id": "51aa570d",
   "metadata": {},
   "outputs": [],
   "source": []
  },
  {
   "cell_type": "code",
   "execution_count": null,
   "id": "58596a54",
   "metadata": {},
   "outputs": [],
   "source": []
  },
  {
   "cell_type": "code",
   "execution_count": null,
   "id": "6f0bc733",
   "metadata": {},
   "outputs": [],
   "source": []
  },
  {
   "cell_type": "code",
   "execution_count": null,
   "id": "1927a0ed",
   "metadata": {},
   "outputs": [],
   "source": []
  },
  {
   "cell_type": "code",
   "execution_count": null,
   "id": "0355ae5a",
   "metadata": {},
   "outputs": [],
   "source": []
  },
  {
   "cell_type": "code",
   "execution_count": null,
   "id": "392fb23b",
   "metadata": {},
   "outputs": [],
   "source": []
  },
  {
   "cell_type": "code",
   "execution_count": null,
   "id": "82e2a495",
   "metadata": {},
   "outputs": [],
   "source": []
  },
  {
   "cell_type": "code",
   "execution_count": null,
   "id": "13d91f31",
   "metadata": {},
   "outputs": [],
   "source": []
  },
  {
   "cell_type": "code",
   "execution_count": null,
   "id": "890d8ae2",
   "metadata": {},
   "outputs": [],
   "source": []
  },
  {
   "cell_type": "code",
   "execution_count": null,
   "id": "2352cea7",
   "metadata": {},
   "outputs": [],
   "source": []
  },
  {
   "cell_type": "code",
   "execution_count": null,
   "id": "2fb5870b",
   "metadata": {},
   "outputs": [],
   "source": [
    "f = ''\n",
    "i = ''\n",
    "l = ''\n",
    "\n",
    "past = f\"{f}َ{i}{l}َ\"\n",
    "pres = f\"يَ{f}ْ{i}{l}ُ\"\n",
    "masdar = f\"{f}{i}{l}\"\n",
    "ism_fail = f\"{f}َا{i}ِ{l}ٌ\"  \n",
    "\n",
    "past_passive = f\"{f}ُ{i}ِ{l}َ\" \n",
    "pres_passive = f\"يُ{f}ْ{i}َ{l}ُ\"  \n",
    "ism_mafool = f\"مَ{f}ْ{i}ُو{l}ٌ\" \n",
    "\n",
    "commanding = f\"اِ{f}ْ{i}{l}ْ\"\n",
    "forbidding = f\"تَ{f}ْ{i}{l}ْ\"\n",
    "time_place = f\"مَ{f}ْ{i}َ{l}ٌ مَ{f}ْ{i}ِ{l}ٌ مَ{f}ْ{i}َ{l}َةٌ\"\n",
    "\n",
    "print('\\n' + past + '\\t' + pres + '\\t' + masdar + '\\t' + word_before_isms + ' ' + ism_fail)\n",
    "print('\\n' + past_passive + '\\t' + pres_passive + '\\t' + masdar + '\\t' + word_before_isms + ' ' + ism_mafool)\n",
    "print('\\n' + word_for_commanding + ' ' + commanding + '\\t' + word_for_forbidding + ' ' + forbidding)\n",
    "print('\\n' + word_for_time_place + ' ' + time_place + '\\n')"
   ]
  }
 ],
 "metadata": {
  "kernelspec": {
   "display_name": "Python 3 (ipykernel)",
   "language": "python",
   "name": "python3"
  },
  "language_info": {
   "codemirror_mode": {
    "name": "ipython",
    "version": 3
   },
   "file_extension": ".py",
   "mimetype": "text/x-python",
   "name": "python",
   "nbconvert_exporter": "python",
   "pygments_lexer": "ipython3",
   "version": "3.11.4"
  }
 },
 "nbformat": 4,
 "nbformat_minor": 5
}
