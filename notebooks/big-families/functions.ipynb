{
 "cells": [
  {
   "cell_type": "markdown",
   "id": "1e94254d",
   "metadata": {},
   "source": [
    "# Sarf Functions - Big Families"
   ]
  },
  {
   "cell_type": "code",
   "execution_count": 1,
   "id": "85360e67",
   "metadata": {},
   "outputs": [],
   "source": [
    "# 01: Aslama Family\n",
    "\n",
    "def aslama_family(F,I,L):\n",
    "    aslama = {}\n",
    "    \n",
    "    aslama['past'] = f\"أَ{F}ْ{I}َ{L}َ\"\n",
    "    aslama['pres'] = f\"يُ{F}ْ{I}ِ{L}ُ\"\n",
    "    aslama['masdar'] = f\"إِ{F}ْ{I}َا{L}ًا\"\n",
    "    aslama['ism_fail'] = f\"مُ{F}ْ{I}ِ{L}ٌ\"\n",
    "\n",
    "    aslama['past_passive'] = f\"اُ{F}ْ{I}ِ{L}َ\"\n",
    "    aslama['pres_passive'] = f\"يُ{F}ْ{I}َ{L}ُ\"\n",
    "    aslama['ism_mafool'] = f\"مُ{F}ْ{I}َ{L}ٌ\"\n",
    "\n",
    "    aslama['commanding'] = f\"أَ{F}ْ{I}ِ{L}ْ\"\n",
    "    aslama['forbidding'] = f\"تُ{F}ْ{I}ِ{L}ْ\"\n",
    "    aslama['time_place'] = f\"مُ{F}ْ{I}َ{L}ٌ\"\n",
    "    \n",
    "    return aslama"
   ]
  },
  {
   "cell_type": "code",
   "execution_count": 2,
   "id": "3b71f5b1",
   "metadata": {},
   "outputs": [],
   "source": [
    "# 02: Allama Family\n",
    "\n",
    "def allama_family(F,I,L):\n",
    "    allama = {}\n",
    "    \n",
    "    allama['past'] = f\"{F}َ{I}َّ{L}َ\"\n",
    "    allama['pres'] = f\"يُ{F}َ{I}ِّ{L}ُ\"\n",
    "    allama['masdar'] = f\"تَ{F}ْ{I}ِيْ{L}ًا\"\n",
    "    allama['ism_fail'] = f\"مُ{F}َ{I}ِّ{L}ٌ\"\n",
    "\n",
    "    allama['past_passive'] = f\"{F}ُ{I}ِّ{L}َ\"\n",
    "    allama['pres_passive'] = f\"يُ{F}َ{I}َّ{L}ُ\"\n",
    "    allama['ism_mafool'] = f\"مُ{F}َ{I}َّ{L}ٌ\"\n",
    "\n",
    "    allama['commanding'] = f\"{F}َ{I}ِّ{L}ْ\"\n",
    "    allama['forbidding'] = f\"تُ{F}َ{I}ِّ{L}ْ\"\n",
    "    allama['time_place'] = f\"مُ{F}َ{I}َّ{L}ٌ\"\n",
    "    \n",
    "    return allama"
   ]
  },
  {
   "cell_type": "code",
   "execution_count": 4,
   "id": "6422d3d6",
   "metadata": {},
   "outputs": [],
   "source": [
    "# 03: Jaahada Family\n",
    "\n",
    "def jahaada_family(F,I,L):\n",
    "    jahaada = {}\n",
    "    \n",
    "    jahaada['past'] = f\"{F}َا{I}َ{L}َ\"\n",
    "    jahaada['pres'] = f\"يُ{F}َا{I}ِ{L}ُ\"\n",
    "    jahaada['masdar'] = f\"{F}ِ{I}َا{L}ًا ومُ{F}َا{I}َ{L}َةً\"\n",
    "    jahaada['ism_fail'] = f\"مُ{F}َا{I}ِ{L}ٌ\"\n",
    "\n",
    "    jahaada['past_passive'] = f\"{F}ُو{I}ِ{L}َ\"\n",
    "    jahaada['pres_passive'] = f\"يُ{F}َا{I}َ{L}ُ\"\n",
    "    jahaada['ism_mafool'] = f\"مُ{F}َا{I}َ{L}ٌ\"\n",
    "\n",
    "    jahaada['commanding'] = f\"{F}َا{I}ِ{L}ْ\"\n",
    "    jahaada['forbidding'] = f\"تُ{F}َا{I}ِ{L}ْ\"\n",
    "    jahaada['time_place'] = f\"مُ{F}َا{I}َ{L}ٌ\"\n",
    "    \n",
    "    return jahaada"
   ]
  },
  {
   "cell_type": "code",
   "execution_count": 5,
   "id": "052ad2ba",
   "metadata": {},
   "outputs": [],
   "source": [
    "# 04: Ta'allama Family\n",
    "\n",
    "def taallama_family(F,I,L):\n",
    "    taallama = {}\n",
    "    \n",
    "    taallama['past'] = f\"تَ{F}َ{I}َّ{L}َ\"\n",
    "    taallama['pres'] = f\"يَتَ{F}َ{I}َّ{L}ُ\"\n",
    "    taallama['masdar'] = f\"تَ{F}َ{I}ُّ{L}ًا\"\n",
    "    taallama['ism_fail'] = f\"مُتَ{F}َ{I}ِّ{L}ٌ\"\n",
    "\n",
    "    taallama['past_passive'] = f\"تُ{F}ُ{I}ِّ{L}َ\"\n",
    "    taallama['pres_passive'] = f\"يُتَ{F}َ{I}َّ{L}ُ\"\n",
    "    taallama['ism_mafool'] = f\"مُتَ{F}َ{I}َّ{L}ٌ\"\n",
    "\n",
    "    taallama['commanding'] = f\"تَ{F}َ{I}َّ{L}ْ\"\n",
    "    taallama['forbidding'] = f\"تَتَ{F}َ{I}َّ{L}ْ\"\n",
    "    taallama['time_place'] = f\"مُتَ{F}َ{I}َّ{L}ٌ\"\n",
    "    \n",
    "    return taallama"
   ]
  },
  {
   "cell_type": "code",
   "execution_count": 6,
   "id": "c975212a",
   "metadata": {},
   "outputs": [],
   "source": [
    "# 05: Tasa'ala Family\n",
    "\n",
    "def tasaala_family(F,I,L):\n",
    "    tasaala = {}\n",
    "    \n",
    "    tasaala['past'] = f\"تَ{F}َا{I}َ{L}َ\"\n",
    "    tasaala['pres'] = f\"يَتَ{F}َا{I}َ{L}ُ\"\n",
    "    tasaala['masdar'] = f\"تَ{F}َا{I}ُ{L}ًا\"\n",
    "    tasaala['ism_fail'] = f\"مُتَ{F}َا{I}ِ{L}ٌ\"\n",
    "\n",
    "    tasaala['past_passive'] = f\"تُ{F}ُو{I}ِ{L}َ\"\n",
    "    tasaala['pres_passive'] = f\"يُتَ{F}َا{I}َ{L}ُ\"\n",
    "    tasaala['ism_mafool'] = f\"مُتَ{F}َا{I}َ{L}ٌ\"\n",
    "\n",
    "    tasaala['commanding'] = f\"تَ{F}َا{I}َ{L}ْ\"\n",
    "    tasaala['forbidding'] = f\"تَتَ{F}َا{I}َ{L}ْ\"\n",
    "    tasaala['time_place'] = f\"مُتَ{F}َا{I}َ{L}ٌ\"\n",
    "    \n",
    "    return tasaala"
   ]
  },
  {
   "cell_type": "code",
   "execution_count": 7,
   "id": "905dbe2f",
   "metadata": {},
   "outputs": [],
   "source": [
    "# 06: Inqalaba Family\n",
    "\n",
    "def inqalaba_family(F,I,L):\n",
    "    inqalaba = {}\n",
    "    \n",
    "    inqalaba['past'] = f\"اِنْ{F}َ{I}َ{L}َ\"\n",
    "    inqalaba['pres'] = f\"يَنْ{F}َ{I}ِ{L}ُ\"\n",
    "    inqalaba['masdar'] = f\"اِنْ{F}ِ{I}َا{L}ًا\"\n",
    "    inqalaba['ism_fail'] = f\"مُنْ{F}َ{I}ِ{L}ٌ\"\n",
    "\n",
    "    inqalaba['commanding'] = f\"اِنْ{F}َ{I}ِ{L}ْ\"\n",
    "    inqalaba['forbidding'] = f\"تَنْ{F}َ{I}ِ{L}ْ\"\n",
    "    inqalaba['time_place'] = f\"مُنْ{F}َ{I}َ{L}ٌ\"\n",
    "\n",
    "    return inqalaba"
   ]
  },
  {
   "cell_type": "code",
   "execution_count": 9,
   "id": "e7288c1a",
   "metadata": {},
   "outputs": [],
   "source": [
    "# 07: Iqtaraba Family\n",
    "\n",
    "def iqtaraba_family(F,I,L):\n",
    "    iqtaraba = {}\n",
    "    \n",
    "    iqtaraba['past'] = f\"اِ{F}ْتَ{I}َ{L}َ\"\n",
    "    iqtaraba['pres'] = f\"يَ{F}ْتَ{I}ِ{L}ُ\"\n",
    "    iqtaraba['masdar'] = f\"اِ{F}ْتِ{I}َا{L}ًا\"\n",
    "    iqtaraba['ism_fail'] = f\"مُ{F}ْتَ{I}ِ{L}ٌ\"\n",
    "\n",
    "    iqtaraba['past_passive'] = f\"اُ{F}ْتُ{I}ِ{L}َ\"\n",
    "    iqtaraba['pres_passive'] = f\"يُ{F}ْتَ{I}َ{L}ُ\"\n",
    "    iqtaraba['ism_mafool'] = f\"مُ{F}ْتَ{I}َ{L}ٌ\"\n",
    "\n",
    "    iqtaraba['commanding'] = f\"اِ{F}ْتَ{I}ِ{L}ْ\"\n",
    "    iqtaraba['forbidding'] = f\"تَ{F}ْتَ{I}ِ{L}ْ\"\n",
    "    iqtaraba['time_place'] = f\"مُ{F}ْتَ{I}َ{L}ٌ\"\n",
    "    \n",
    "    return iqtaraba"
   ]
  },
  {
   "cell_type": "code",
   "execution_count": 10,
   "id": "5ed917dc",
   "metadata": {},
   "outputs": [],
   "source": [
    "# 08: Istagfara Family\n",
    "\n",
    "def istagfara_family(F,I,L):\n",
    "    istagfara = {}\n",
    "    \n",
    "    istagfara['past'] = f\"اِسْتَ{F}ْ{I}َ{L}َ\"\n",
    "    istagfara['pres'] = f\"يَسْتَ{F}ْ{I}ِ{L}ُ\"\n",
    "    istagfara['masdar'] = f\"اِسْتِ{F}ْ{I}َا{L}ًا\"\n",
    "    istagfara['ism_fail'] = f\"مُسْتَ{F}ْ{I}ِ{L}ٌ\"\n",
    "\n",
    "    istagfara['past_passive'] = f\"اُسْتُ{F}ْ{I}ِ{L}َ\"\n",
    "    istagfara['pres_passive'] = f\"يُسْتَ{F}ْ{I}َ{L}ُ\"\n",
    "    istagfara['ism_mafool'] = f\"مُسْتَ{F}ْ{I}َ{L}ٌ\"\n",
    "\n",
    "    istagfara['commanding'] = f\"اِسْتَ{F}ْ{I}ِ{L}ْ\"\n",
    "    istagfara['forbidding'] = f\"تَسْتَ{F}ْ{I}ِ{L}ْ\"\n",
    "    istagfara['time_place'] = f\"مُسْتَ{F}ْ{I}َ{L}ٌ\"\n",
    "    \n",
    "    return istagfara"
   ]
  },
  {
   "cell_type": "code",
   "execution_count": null,
   "id": "b98105d7",
   "metadata": {},
   "outputs": [],
   "source": []
  },
  {
   "cell_type": "code",
   "execution_count": 11,
   "id": "14cd5661",
   "metadata": {},
   "outputs": [
    {
     "data": {
      "text/plain": [
       "{'past': 'أَسْلَمَ',\n",
       " 'pres': 'يُسْلِمُ',\n",
       " 'masdar': 'إِسْلامًا',\n",
       " 'ism_fail': 'مُسْلِمٌ',\n",
       " 'past_passive': 'اُسْلِمَ',\n",
       " 'pres_passive': 'يُسْلَمُ',\n",
       " 'ism_mafool': 'مُسْلَمٌ',\n",
       " 'commanding': 'أَسْلِمْ',\n",
       " 'forbidding': 'تُسْلِمْ',\n",
       " 'time_place': 'مُسْلَمٌ'}"
      ]
     },
     "execution_count": 11,
     "metadata": {},
     "output_type": "execute_result"
    }
   ],
   "source": [
    "aslama_family(F='س',I='ل',L='م')"
   ]
  },
  {
   "cell_type": "code",
   "execution_count": 19,
   "id": "0db150f7",
   "metadata": {},
   "outputs": [
    {
     "data": {
      "text/plain": [
       "{'past': 'عَلَّمَ',\n",
       " 'pres': 'يُعَلِّمُ',\n",
       " 'masdar': 'تَعْلِيْمًا',\n",
       " 'ism_fail': 'مُعَلِّمٌ',\n",
       " 'past_passive': 'عُلِّمَ',\n",
       " 'pres_passive': 'يُعَلَّمُ',\n",
       " 'ism_mafool': 'مُعَلَّمٌ',\n",
       " 'commanding': 'عَلِّمْ',\n",
       " 'forbidding': 'تُعَلِّمْ',\n",
       " 'time_place': 'مُعَلَّمٌ'}"
      ]
     },
     "execution_count": 19,
     "metadata": {},
     "output_type": "execute_result"
    }
   ],
   "source": [
    "allama_family(F='ع',I='ل',L='م')"
   ]
  },
  {
   "cell_type": "code",
   "execution_count": 20,
   "id": "1c104025",
   "metadata": {},
   "outputs": [
    {
     "data": {
      "text/plain": [
       "{'past': 'جَاهَدَ',\n",
       " 'pres': 'يُجَاهِدُ',\n",
       " 'masdar': 'جِهَادًا ومُجَاهَدَةً',\n",
       " 'ism_fail': 'مُجَاهِدٌ',\n",
       " 'past_passive': 'جُوهِدَ',\n",
       " 'pres_passive': 'يُجَاهَدُ',\n",
       " 'ism_mafool': 'مُجَاهَدٌ',\n",
       " 'commanding': 'جَاهِدْ',\n",
       " 'forbidding': 'تُجَاهِدْ',\n",
       " 'time_place': 'مُجَاهَدٌ'}"
      ]
     },
     "execution_count": 20,
     "metadata": {},
     "output_type": "execute_result"
    }
   ],
   "source": [
    "jahaada_family(F='ج',I='ه',L='د')"
   ]
  },
  {
   "cell_type": "code",
   "execution_count": 21,
   "id": "d5ecaed6",
   "metadata": {},
   "outputs": [
    {
     "data": {
      "text/plain": [
       "{'past': 'تَعَلَّمَ',\n",
       " 'pres': 'يَتَعَلَّمُ',\n",
       " 'masdar': 'تَعَلُّمًا',\n",
       " 'ism_fail': 'مُتَعَلِّمٌ',\n",
       " 'past_passive': 'تُعُلِّمَ',\n",
       " 'pres_passive': 'يُتَعَلَّمُ',\n",
       " 'ism_mafool': 'مُتَعَلَّمٌ',\n",
       " 'commanding': 'تَعَلَّمْ',\n",
       " 'forbidding': 'تَتَعَلَّمْ',\n",
       " 'time_place': 'مُتَعَلَّمٌ'}"
      ]
     },
     "execution_count": 21,
     "metadata": {},
     "output_type": "execute_result"
    }
   ],
   "source": [
    "taallama_family(F='ع',I='ل',L='م')"
   ]
  },
  {
   "cell_type": "code",
   "execution_count": 22,
   "id": "f8a2ef08",
   "metadata": {},
   "outputs": [
    {
     "data": {
      "text/plain": [
       "{'past': 'تَسَاءَلَ',\n",
       " 'pres': 'يَتَسَاءَلُ',\n",
       " 'masdar': 'تَسَاءُلًا',\n",
       " 'ism_fail': 'مُتَسَاءِلٌ',\n",
       " 'past_passive': 'تُسُوءِلَ',\n",
       " 'pres_passive': 'يُتَسَاءَلُ',\n",
       " 'ism_mafool': 'مُتَسَاءَلٌ',\n",
       " 'commanding': 'تَسَاءَلْ',\n",
       " 'forbidding': 'تَتَسَاءَلْ',\n",
       " 'time_place': 'مُتَسَاءَلٌ'}"
      ]
     },
     "execution_count": 22,
     "metadata": {},
     "output_type": "execute_result"
    }
   ],
   "source": [
    "tasaala_family(F='س',I='ء',L='ل')"
   ]
  },
  {
   "cell_type": "code",
   "execution_count": 23,
   "id": "3dffe335",
   "metadata": {},
   "outputs": [
    {
     "data": {
      "text/plain": [
       "{'past': 'اِنْقَلَبَ',\n",
       " 'pres': 'يَنْقَلِبُ',\n",
       " 'masdar': 'اِنْقِلَابًا',\n",
       " 'ism_fail': 'مُنْقَلِبٌ',\n",
       " 'commanding': 'اِنْقَلِبْ',\n",
       " 'forbidding': 'تَنْقَلِبْ',\n",
       " 'time_place': 'مُنْقَلَبٌ'}"
      ]
     },
     "execution_count": 23,
     "metadata": {},
     "output_type": "execute_result"
    }
   ],
   "source": [
    "inqalaba_family(F='ق',I='ل',L='ب')"
   ]
  },
  {
   "cell_type": "code",
   "execution_count": 24,
   "id": "90c04af2",
   "metadata": {},
   "outputs": [
    {
     "data": {
      "text/plain": [
       "{'past': 'اِقْتَرَبَ',\n",
       " 'pres': 'يَقْتَرِبُ',\n",
       " 'masdar': 'اِقْتِرَابًا',\n",
       " 'ism_fail': 'مُقْتَرِبٌ',\n",
       " 'past_passive': 'اِقْتُرِبَ',\n",
       " 'pres_passive': 'يُقْتَرَبُ',\n",
       " 'ism_mafool': 'مُقْتَرَبٌ',\n",
       " 'commanding': 'اِقْتَرِبْ',\n",
       " 'forbidding': 'تَقْتَرِبْ',\n",
       " 'time_place': 'مُقْتَرَبٌ'}"
      ]
     },
     "execution_count": 24,
     "metadata": {},
     "output_type": "execute_result"
    }
   ],
   "source": [
    "iqtaraba_family(F='ق',I='ر',L='ب')"
   ]
  },
  {
   "cell_type": "code",
   "execution_count": 25,
   "id": "8f249164",
   "metadata": {},
   "outputs": [
    {
     "data": {
      "text/plain": [
       "{'past': 'اِسْتَغْفَرَ',\n",
       " 'pres': 'يَسْتَغْفِرُ',\n",
       " 'masdar': 'اِسْتِغْفَارًا',\n",
       " 'ism_fail': 'مُسْتَغْفِرٌ',\n",
       " 'past_passive': 'اُسْتُغْفِرَ',\n",
       " 'pres_passive': 'يُسْتَغْفَرُ',\n",
       " 'ism_mafool': 'مُسْتَغْفَرٌ',\n",
       " 'commanding': 'اِسْتَغْفِرْ',\n",
       " 'forbidding': 'تَسْتَغْفِرْ',\n",
       " 'time_place': 'مُسْتَغْفَرٌ'}"
      ]
     },
     "execution_count": 25,
     "metadata": {},
     "output_type": "execute_result"
    }
   ],
   "source": [
    "istagfara_family(F='غ',I='ف',L='ر')"
   ]
  },
  {
   "cell_type": "code",
   "execution_count": null,
   "id": "0c78974a",
   "metadata": {},
   "outputs": [],
   "source": []
  }
 ],
 "metadata": {
  "kernelspec": {
   "display_name": "Python 3 (ipykernel)",
   "language": "python",
   "name": "python3"
  },
  "language_info": {
   "codemirror_mode": {
    "name": "ipython",
    "version": 3
   },
   "file_extension": ".py",
   "mimetype": "text/x-python",
   "name": "python",
   "nbconvert_exporter": "python",
   "pygments_lexer": "ipython3",
   "version": "3.11.4"
  }
 },
 "nbformat": 4,
 "nbformat_minor": 5
}
