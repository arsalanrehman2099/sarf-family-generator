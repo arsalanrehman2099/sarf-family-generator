{
 "cells": [
  {
   "cell_type": "markdown",
   "id": "f50773de",
   "metadata": {},
   "source": [
    "# Sarf Generator  - Big Families"
   ]
  },
  {
   "cell_type": "code",
   "execution_count": 1,
   "id": "bb6fdb73",
   "metadata": {},
   "outputs": [],
   "source": [
    "word_before_isms = 'فَهُوَ'\n",
    "word_for_commanding = 'الأَمْرُ مِنْهُ'\n",
    "word_for_forbidding = 'وَالنَّهْىُ عَنْهُ لَا'\n",
    "word_for_time_place = 'وَالظَّرْفُ مِنْهُ'"
   ]
  },
  {
   "cell_type": "markdown",
   "id": "c9abe552",
   "metadata": {},
   "source": [
    "##### 01: Aslama Family"
   ]
  },
  {
   "cell_type": "code",
   "execution_count": 2,
   "id": "f54ca880",
   "metadata": {},
   "outputs": [],
   "source": [
    "F = 'س'\n",
    "I = 'ل'\n",
    "L = 'م'"
   ]
  },
  {
   "cell_type": "code",
   "execution_count": 3,
   "id": "de934de6",
   "metadata": {},
   "outputs": [],
   "source": [
    "past = f\"أَ{F}ْ{I}َ{L}َ\"\n",
    "pres = f\"يُ{F}ْ{I}ِ{L}ُ\"\n",
    "masdar = f\"إِ{F}ْ{I}َا{L}ًا\"\n",
    "ism_fail = f\"مُ{F}ْ{I}ِ{L}ٌ\"\n",
    "\n",
    "past_passive = f\"اُ{F}ْ{I}ِ{L}َ\"\n",
    "pres_passive = f\"يُ{F}ْ{I}َ{L}ُ\"\n",
    "ism_mafool = f\"مُ{F}ْ{I}َ{L}ٌ\"\n",
    "\n",
    "commanding = f\"أَ{F}ْ{I}ِ{L}ْ\"\n",
    "forbidding = f\"تُ{F}ْ{I}ِ{L}ْ\"\n",
    "time_place = ism_mafool"
   ]
  },
  {
   "cell_type": "code",
   "execution_count": 4,
   "id": "3d252f90",
   "metadata": {},
   "outputs": [
    {
     "name": "stdout",
     "output_type": "stream",
     "text": [
      "أَسْلَمَ\n",
      "يُسْلِمُ\n",
      "إِسْلامًا\n",
      "فَهُوَ مُسْلِمٌ\n",
      "\n",
      "\n",
      "اُسْلِمَ\n",
      "يُسْلَمُ\n",
      "إِسْلامًا\n",
      "فَهُوَ مُسْلَمٌ\n",
      "\n",
      "\n",
      "الأَمْرُ مِنْهُ أَسْلِمْ\n",
      "وَالنَّهْىُ عَنْهُ لَا تُسْلِمْ\n",
      "وَالظَّرْفُ مِنْهُ مُسْلَمٌ\n"
     ]
    }
   ],
   "source": [
    "print(past)\n",
    "print(pres)\n",
    "print(masdar)\n",
    "print(word_before_isms + ' ' + ism_fail)\n",
    "print('\\n')\n",
    "print(past_passive)\n",
    "print(pres_passive)\n",
    "print(masdar)\n",
    "print(word_before_isms + ' ' + ism_mafool)\n",
    "print('\\n')\n",
    "print(word_for_commanding + ' ' + commanding)\n",
    "print(word_for_forbidding + ' ' + forbidding)\n",
    "print(word_for_time_place + ' ' + time_place)"
   ]
  },
  {
   "cell_type": "markdown",
   "id": "8cdc555b",
   "metadata": {},
   "source": [
    "##### 02: 'Allama Family"
   ]
  },
  {
   "cell_type": "code",
   "execution_count": 5,
   "id": "4467a592",
   "metadata": {},
   "outputs": [],
   "source": [
    "F = 'ع'\n",
    "I = 'ل'\n",
    "L = 'م'"
   ]
  },
  {
   "cell_type": "code",
   "execution_count": 6,
   "id": "ec56597b",
   "metadata": {},
   "outputs": [],
   "source": [
    "past = f\"{F}َ{I}َّ{L}َ\"\n",
    "pres = f\"يُ{F}َ{I}ِّ{L}ُ\"\n",
    "masdar = f\"تَ{F}ْ{I}ِيْ{L}ًا\"\n",
    "ism_fail = f\"مُ{F}َ{I}ِّ{L}ٌ\"\n",
    "\n",
    "\n",
    "past_passive = f\"{F}ُ{I}ِّ{L}َ\"\n",
    "pres_passive = f\"يُ{F}َ{I}َّ{L}ُ\"\n",
    "ism_mafool = f\"مُ{F}َ{I}َّ{L}ٌ\"\n",
    "\n",
    "commanding = f\"{F}َ{I}ِّ{L}ْ\"\n",
    "forbidding = f\"تُ{F}َ{I}ِّ{L}ْ\"\n",
    "time_place = ism_mafool"
   ]
  },
  {
   "cell_type": "code",
   "execution_count": 7,
   "id": "fd726bfb",
   "metadata": {},
   "outputs": [
    {
     "name": "stdout",
     "output_type": "stream",
     "text": [
      "عَلَّمَ\n",
      "يُعَلِّمُ\n",
      "تَعْلِيْمًا\n",
      "فَهُوَ مُعَلِّمٌ\n",
      "\n",
      "\n",
      "عُلِّمَ\n",
      "يُعَلَّمُ\n",
      "تَعْلِيْمًا\n",
      "فَهُوَ مُعَلَّمٌ\n",
      "\n",
      "\n",
      "الأَمْرُ مِنْهُ عَلِّمْ\n",
      "وَالنَّهْىُ عَنْهُ لَا تُعَلِّمْ\n",
      "وَالظَّرْفُ مِنْهُ مُعَلَّمٌ\n"
     ]
    }
   ],
   "source": [
    "print(past)\n",
    "print(pres)\n",
    "print(masdar)\n",
    "print(word_before_isms + ' ' + ism_fail)\n",
    "print('\\n')\n",
    "print(past_passive)\n",
    "print(pres_passive)\n",
    "print(masdar)\n",
    "print(word_before_isms + ' ' + ism_mafool)\n",
    "print('\\n')\n",
    "print(word_for_commanding + ' ' + commanding)\n",
    "print(word_for_forbidding + ' ' + forbidding)\n",
    "print(word_for_time_place + ' ' + time_place)"
   ]
  },
  {
   "cell_type": "markdown",
   "id": "a57144df",
   "metadata": {},
   "source": [
    "##### 03: Jaa'hada Family"
   ]
  },
  {
   "cell_type": "code",
   "execution_count": 8,
   "id": "3ba1be12",
   "metadata": {},
   "outputs": [],
   "source": [
    "F = 'ج'\n",
    "I = 'ه'\n",
    "L = 'د'"
   ]
  },
  {
   "cell_type": "code",
   "execution_count": 9,
   "id": "ce8406d9",
   "metadata": {},
   "outputs": [],
   "source": [
    "past = f\"{F}َا{I}َ{L}َ\"\n",
    "pres = f\"يُ{F}َا{I}ِ{L}ُ\"\n",
    "masdar = f\"{F}ِ{I}َا{L}ًا ومُ{F}َا{I}َ{L}َةً\"\n",
    "ism_fail = f\"مُ{F}َا{I}ِ{L}ٌ\"\n",
    "\n",
    "past_passive = f\"{F}ُو{I}ِ{L}َ\"\n",
    "pres_passive = f\"يُ{F}َا{I}َ{L}ُ\"\n",
    "ism_mafool = f\"مُ{F}َا{I}َ{L}ٌ\"\n",
    "\n",
    "commanding = f\"{F}َا{I}ِ{L}ْ\"\n",
    "forbidding = f\"تُ{F}َا{I}ِ{L}ْ\"\n",
    "time_place = ism_mafool"
   ]
  },
  {
   "cell_type": "code",
   "execution_count": 10,
   "id": "31558ef7",
   "metadata": {},
   "outputs": [
    {
     "name": "stdout",
     "output_type": "stream",
     "text": [
      "جَاهَدَ\n",
      "يُجَاهِدُ\n",
      "جِهَادًا ومُجَاهَدَةً\n",
      "فَهُوَ مُجَاهِدٌ\n",
      "\n",
      "\n",
      "جُوهِدَ\n",
      "يُجَاهَدُ\n",
      "جِهَادًا ومُجَاهَدَةً\n",
      "فَهُوَ مُجَاهَدٌ\n",
      "\n",
      "\n",
      "الأَمْرُ مِنْهُ جَاهِدْ\n",
      "وَالنَّهْىُ عَنْهُ لَا تُجَاهِدْ\n",
      "وَالظَّرْفُ مِنْهُ مُجَاهَدٌ\n"
     ]
    }
   ],
   "source": [
    "print(past)\n",
    "print(pres)\n",
    "print(masdar)\n",
    "print(word_before_isms + ' ' + ism_fail)\n",
    "print('\\n')\n",
    "print(past_passive)\n",
    "print(pres_passive)\n",
    "print(masdar)\n",
    "print(word_before_isms + ' ' + ism_mafool)\n",
    "print('\\n')\n",
    "print(word_for_commanding + ' ' + commanding)\n",
    "print(word_for_forbidding + ' ' + forbidding)\n",
    "print(word_for_time_place + ' ' + time_place)"
   ]
  },
  {
   "cell_type": "markdown",
   "id": "e2855777",
   "metadata": {},
   "source": [
    "##### 04: Ta'allama Family"
   ]
  },
  {
   "cell_type": "code",
   "execution_count": 11,
   "id": "05e85835",
   "metadata": {},
   "outputs": [],
   "source": [
    "F = 'ع'\n",
    "I = 'ل'\n",
    "L = 'م'"
   ]
  },
  {
   "cell_type": "code",
   "execution_count": 12,
   "id": "9fcedf3d",
   "metadata": {},
   "outputs": [],
   "source": [
    "past = f\"تَ{F}َ{I}َّ{L}َ\"\n",
    "pres = f\"يَتَ{F}َ{I}َّ{L}ُ\"\n",
    "masdar = f\"تَ{F}َ{I}ُّ{L}ًا\"\n",
    "ism_fail = f\"مُتَ{F}َ{I}ِّ{L}ٌ\"\n",
    "\n",
    "past_passive = f\"تُ{F}ُ{I}ِّ{L}َ\"\n",
    "pres_passive = f\"يُتَ{F}َ{I}َّ{L}ُ\"\n",
    "ism_mafool = f\"مُتَ{F}َ{I}َّ{L}ٌ\"\n",
    "\n",
    "\n",
    "commanding = f\"تَ{F}َ{I}َّ{L}ْ\"\n",
    "forbidding = f\"تَتَ{F}َ{I}َّ{L}ْ\"\n",
    "time_place = ism_mafool"
   ]
  },
  {
   "cell_type": "code",
   "execution_count": 13,
   "id": "209536ec",
   "metadata": {},
   "outputs": [
    {
     "name": "stdout",
     "output_type": "stream",
     "text": [
      "تَعَلَّمَ\n",
      "يَتَعَلَّمُ\n",
      "تَعَلُّمًا\n",
      "فَهُوَ مُتَعَلِّمٌ\n",
      "\n",
      "\n",
      "تُعُلِّمَ\n",
      "يُتَعَلَّمُ\n",
      "تَعَلُّمًا\n",
      "فَهُوَ مُتَعَلَّمٌ\n",
      "\n",
      "\n",
      "الأَمْرُ مِنْهُ تَعَلَّمْ\n",
      "وَالنَّهْىُ عَنْهُ لَا تَتَعَلَّمْ\n",
      "وَالظَّرْفُ مِنْهُ مُتَعَلَّمٌ\n"
     ]
    }
   ],
   "source": [
    "print(past)\n",
    "print(pres)\n",
    "print(masdar)\n",
    "print(word_before_isms + ' ' + ism_fail)\n",
    "print('\\n')\n",
    "print(past_passive)\n",
    "print(pres_passive)\n",
    "print(masdar)\n",
    "print(word_before_isms + ' ' + ism_mafool)\n",
    "print('\\n')\n",
    "print(word_for_commanding + ' ' + commanding)\n",
    "print(word_for_forbidding + ' ' + forbidding)\n",
    "print(word_for_time_place + ' ' + time_place)"
   ]
  },
  {
   "cell_type": "markdown",
   "id": "97162782",
   "metadata": {},
   "source": [
    "##### 05: Ta'saa'la Family"
   ]
  },
  {
   "cell_type": "code",
   "execution_count": 14,
   "id": "50cff103",
   "metadata": {},
   "outputs": [],
   "source": [
    "F = 'س'\n",
    "I = 'ء'\n",
    "L = 'ل'"
   ]
  },
  {
   "cell_type": "code",
   "execution_count": 15,
   "id": "4ad9f221",
   "metadata": {},
   "outputs": [],
   "source": [
    "past = f\"تَ{F}َا{I}َ{L}َ\"\n",
    "pres = f\"يَتَ{F}َا{I}َ{L}ُ\"\n",
    "masdar = f\"تَ{F}َا{I}ُ{L}ًا\"\n",
    "ism_fail = f\"مُتَ{F}َا{I}ِ{L}ٌ\"\n",
    "\n",
    "past_passive = f\"تُ{F}ُو{I}ِ{L}َ\"\n",
    "pres_passive = f\"يُتَ{F}َا{I}َ{L}ُ\"\n",
    "ism_mafool = f\"مُتَ{F}َا{I}َ{L}ٌ\"\n",
    "\n",
    "commanding = f\"تَ{F}َا{I}َ{L}ْ\"\n",
    "forbidding = f\"تَتَ{F}َا{I}َ{L}ْ\"\n",
    "time_place = ism_mafool"
   ]
  },
  {
   "cell_type": "code",
   "execution_count": 16,
   "id": "ba32a9fd",
   "metadata": {},
   "outputs": [
    {
     "name": "stdout",
     "output_type": "stream",
     "text": [
      "تَسَاءَلَ\n",
      "يَتَسَاءَلُ\n",
      "تَسَاءُلًا\n",
      "فَهُوَ مُتَسَاءِلٌ\n",
      "\n",
      "\n",
      "تُسُوءِلَ\n",
      "يُتَسَاءَلُ\n",
      "تَسَاءُلًا\n",
      "فَهُوَ مُتَسَاءَلٌ\n",
      "\n",
      "\n",
      "الأَمْرُ مِنْهُ تَسَاءَلْ\n",
      "وَالنَّهْىُ عَنْهُ لَا تَتَسَاءَلْ\n",
      "وَالظَّرْفُ مِنْهُ مُتَسَاءَلٌ\n"
     ]
    }
   ],
   "source": [
    "print(past)\n",
    "print(pres)\n",
    "print(masdar)\n",
    "print(word_before_isms + ' ' + ism_fail)\n",
    "print('\\n')\n",
    "print(past_passive)\n",
    "print(pres_passive)\n",
    "print(masdar)\n",
    "print(word_before_isms + ' ' + ism_mafool)\n",
    "print('\\n')\n",
    "print(word_for_commanding + ' ' + commanding)\n",
    "print(word_for_forbidding + ' ' + forbidding)\n",
    "print(word_for_time_place + ' ' + time_place)"
   ]
  },
  {
   "cell_type": "markdown",
   "id": "e57bf2e3",
   "metadata": {},
   "source": [
    "##### 06: In'Qalaba Family"
   ]
  },
  {
   "cell_type": "code",
   "execution_count": 17,
   "id": "952a11f1",
   "metadata": {},
   "outputs": [],
   "source": [
    "F = 'ق'\n",
    "I = 'ل'\n",
    "L = 'ب'"
   ]
  },
  {
   "cell_type": "code",
   "execution_count": 18,
   "id": "ab0837d6",
   "metadata": {},
   "outputs": [],
   "source": [
    "past = f\"اِنْ{F}َ{I}َ{L}َ\"\n",
    "pres = f\"يَنْ{F}َ{I}ِ{L}ُ\"\n",
    "masdar = f\"اِنْ{F}ِ{I}َا{L}ًا\"\n",
    "ism_fail = f\"مُنْ{F}َ{I}ِ{L}ٌ\"\n",
    "\n",
    "commanding = f\"اِنْ{F}َ{I}ِ{L}ْ\"\n",
    "forbidding = f\"تَنْ{F}َ{I}ِ{L}ْ\"\n",
    "time_place = f\"مُنْ{F}َ{I}َ{L}ٌ\""
   ]
  },
  {
   "cell_type": "code",
   "execution_count": 19,
   "id": "b7f4d9e6",
   "metadata": {},
   "outputs": [
    {
     "name": "stdout",
     "output_type": "stream",
     "text": [
      "اِنْقَلَبَ\n",
      "يَنْقَلِبُ\n",
      "اِنْقِلَابًا\n",
      "فَهُوَ مُنْقَلِبٌ\n",
      "\n",
      "\n",
      "الأَمْرُ مِنْهُ اِنْقَلِبْ\n",
      "وَالنَّهْىُ عَنْهُ لَا تَنْقَلِبْ\n",
      "وَالظَّرْفُ مِنْهُ مُنْقَلَبٌ\n"
     ]
    }
   ],
   "source": [
    "print(past)\n",
    "print(pres)\n",
    "print(masdar)\n",
    "print(word_before_isms + ' ' + ism_fail)\n",
    "print('\\n')\n",
    "print(word_for_commanding + ' ' + commanding)\n",
    "print(word_for_forbidding + ' ' + forbidding)\n",
    "print(word_for_time_place + ' ' + time_place)"
   ]
  },
  {
   "cell_type": "markdown",
   "id": "78efedec",
   "metadata": {},
   "source": [
    "##### 07: Iq'Taraba Family"
   ]
  },
  {
   "cell_type": "code",
   "execution_count": 20,
   "id": "d7b7f253",
   "metadata": {},
   "outputs": [],
   "source": [
    "F = 'ق'\n",
    "I = 'ر'\n",
    "L = 'ب'"
   ]
  },
  {
   "cell_type": "code",
   "execution_count": 21,
   "id": "509fd2aa",
   "metadata": {},
   "outputs": [],
   "source": [
    "past = f\"اِ{F}ْتَ{I}َ{L}َ\"\n",
    "pres = f\"يَ{F}ْتَ{I}ِ{L}ُ\"\n",
    "masdar = f\"اِ{F}ْتِ{I}َا{L}ًا\"\n",
    "ism_fail = f\"مُ{F}ْتَ{I}ِ{L}ٌ\"\n",
    "\n",
    "past_passive = f\"اُ{F}ْتُ{I}ِ{L}َ\"\n",
    "pres_passive = f\"يُ{F}ْتَ{I}َ{L}ُ\"\n",
    "ism_mafool = f\"مُ{F}ْتَ{I}َ{L}ٌ\"\n",
    "\n",
    "commanding = f\"اِ{F}ْتَ{I}ِ{L}ْ\"\n",
    "forbidding = f\"تَ{F}ْتَ{I}ِ{L}ْ\"\n",
    "time_place = ism_mafool"
   ]
  },
  {
   "cell_type": "code",
   "execution_count": 22,
   "id": "65fcaebf",
   "metadata": {},
   "outputs": [
    {
     "name": "stdout",
     "output_type": "stream",
     "text": [
      "اِقْتَرَبَ\n",
      "يَقْتَرِبُ\n",
      "اِقْتِرَابًا\n",
      "فَهُوَ مُقْتَرِبٌ\n",
      "\n",
      "\n",
      "اِقْتُرِبَ\n",
      "يُقْتَرَبُ\n",
      "اِقْتِرَابًا\n",
      "فَهُوَ مُقْتَرَبٌ\n",
      "\n",
      "\n",
      "الأَمْرُ مِنْهُ اِقْتَرِبْ\n",
      "وَالنَّهْىُ عَنْهُ لَا تَقْتَرِبْ\n",
      "وَالظَّرْفُ مِنْهُ مُقْتَرَبٌ\n"
     ]
    }
   ],
   "source": [
    "print(past)\n",
    "print(pres)\n",
    "print(masdar)\n",
    "print(word_before_isms + ' ' + ism_fail)\n",
    "print('\\n')\n",
    "print(past_passive)\n",
    "print(pres_passive)\n",
    "print(masdar)\n",
    "print(word_before_isms + ' ' + ism_mafool)\n",
    "print('\\n')\n",
    "print(word_for_commanding + ' ' + commanding)\n",
    "print(word_for_forbidding + ' ' + forbidding)\n",
    "print(word_for_time_place + ' ' + time_place)"
   ]
  },
  {
   "cell_type": "markdown",
   "id": "464f3ddc",
   "metadata": {},
   "source": [
    "##### 08: Istagfara Family"
   ]
  },
  {
   "cell_type": "code",
   "execution_count": 23,
   "id": "0ad383d3",
   "metadata": {},
   "outputs": [],
   "source": [
    "F = 'غ'\n",
    "I = 'ف'\n",
    "L = 'ر'"
   ]
  },
  {
   "cell_type": "code",
   "execution_count": 24,
   "id": "08e39ed0",
   "metadata": {},
   "outputs": [],
   "source": [
    "past = f\"اِسْتَ{F}ْ{I}َ{L}َ\"\n",
    "pres = f\"يَسْتَ{F}ْ{I}ِ{L}ُ\"\n",
    "masdar = f\"اِسْتِ{F}ْ{I}َا{L}ًا\"\n",
    "ism_fail = f\"مُسْتَ{F}ْ{I}ِ{L}ٌ\"\n",
    "\n",
    "past_passive = f\"اُسْتُ{F}ْ{I}ِ{L}َ\"\n",
    "pres_passive = f\"يُسْتَ{F}ْ{I}َ{L}ُ\"\n",
    "ism_mafool = f\"مُسْتَ{F}ْ{I}َ{L}ٌ\"\n",
    "\n",
    "commanding = f\"اِسْتَ{F}ْ{I}ِ{L}ْ\"\n",
    "forbidding = f\"تَسْتَ{F}ْ{I}ِ{L}ْ\"\n",
    "time_place = ism_mafool"
   ]
  },
  {
   "cell_type": "code",
   "execution_count": 25,
   "id": "00be16ca",
   "metadata": {},
   "outputs": [
    {
     "name": "stdout",
     "output_type": "stream",
     "text": [
      "اِسْتَغْفَرَ\n",
      "يَسْتَغْفِرُ\n",
      "اِسْتِغْفَارًا\n",
      "فَهُوَ مُسْتَغْفِرٌ\n",
      "\n",
      "\n",
      "اُسْتُغْفِرَ\n",
      "يُسْتَغْفَرُ\n",
      "اِسْتِغْفَارًا\n",
      "فَهُوَ مُسْتَغْفَرٌ\n",
      "\n",
      "\n",
      "الأَمْرُ مِنْهُ اِسْتَغْفِرْ\n",
      "وَالنَّهْىُ عَنْهُ لَا تَسْتَغْفِرْ\n",
      "وَالظَّرْفُ مِنْهُ مُسْتَغْفَرٌ\n"
     ]
    }
   ],
   "source": [
    "print(past)\n",
    "print(pres)\n",
    "print(masdar)\n",
    "print(word_before_isms + ' ' + ism_fail)\n",
    "print('\\n')\n",
    "print(past_passive)\n",
    "print(pres_passive)\n",
    "print(masdar)\n",
    "print(word_before_isms + ' ' + ism_mafool)\n",
    "print('\\n')\n",
    "print(word_for_commanding + ' ' + commanding)\n",
    "print(word_for_forbidding + ' ' + forbidding)\n",
    "print(word_for_time_place + ' ' + time_place)"
   ]
  },
  {
   "cell_type": "code",
   "execution_count": null,
   "id": "9d0df3ea",
   "metadata": {},
   "outputs": [],
   "source": []
  }
 ],
 "metadata": {
  "kernelspec": {
   "display_name": "Python 3 (ipykernel)",
   "language": "python",
   "name": "python3"
  },
  "language_info": {
   "codemirror_mode": {
    "name": "ipython",
    "version": 3
   },
   "file_extension": ".py",
   "mimetype": "text/x-python",
   "name": "python",
   "nbconvert_exporter": "python",
   "pygments_lexer": "ipython3",
   "version": "3.11.4"
  }
 },
 "nbformat": 4,
 "nbformat_minor": 5
}
